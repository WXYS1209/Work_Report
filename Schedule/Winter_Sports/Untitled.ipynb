{
 "cells": [
  {
   "cell_type": "code",
   "execution_count": 414,
   "id": "4d2a69c9-00ba-4770-9e99-4d30d3e3fed3",
   "metadata": {},
   "outputs": [],
   "source": [
    "import requests\n",
    "from bs4 import BeautifulSoup\n",
    "import pandas as pd\n",
    "import datetime\n",
    "import pytz\n",
    "from tqdm import tqdm\n",
    "import os\n",
    "from openpyxl import load_workbook"
   ]
  },
  {
   "cell_type": "code",
   "execution_count": 440,
   "id": "de8f3cff-5fdb-483a-b15e-5028782bdcc7",
   "metadata": {},
   "outputs": [
    {
     "name": "stdout",
     "output_type": "stream",
     "text": [
      "1\n"
     ]
    }
   ],
   "source": [
    "aa = pd.DataFrame()\n",
    "if len(aa)==0:\n",
    "    print(1)"
   ]
  },
  {
   "cell_type": "code",
   "execution_count": 361,
   "id": "7ac78213-aa47-4320-a393-7944c126c9fc",
   "metadata": {},
   "outputs": [],
   "source": [
    "def convert_tz(datetime_str, tz_str = 'Asia/Shanghai', tz_org = None):\n",
    "    if datetime_str:\n",
    "        datetime_obj = pd.to_datetime(datetime_str)\n",
    "        tz = pytz.timezone(tz_str)\n",
    "\n",
    "        if tz_org:\n",
    "            datetime_obj = datetime_obj.tz_localize(tz_org)\n",
    "        datetime_dt = datetime_obj.astimezone(tz)\n",
    "    else:\n",
    "        datetime_dt = None\n",
    "    return datetime_dt\n",
    "    # datetime_dt.strftime(\"%Y-%m-%d %H:%M:%S\")\n",
    "\n",
    "def convert_to_excel_time(time_str):\n",
    "    time_parts = [int(part) for part in time_str.split(\":\")]\n",
    "    total_seconds = time_parts[0] * 3600 + time_parts[1] * 60 + (time_parts[2] if len(time_parts) == 3 else 0)\n",
    "    return total_seconds / (24*3600)\n"
   ]
  },
  {
   "cell_type": "code",
   "execution_count": 363,
   "id": "2ec7faeb-f31e-4db6-bc6c-ee0b9165f4a0",
   "metadata": {},
   "outputs": [],
   "source": [
    "comp = \"wmxcc\"\n",
    "season = \"2025\""
   ]
  },
  {
   "cell_type": "code",
   "execution_count": 377,
   "id": "afa751e0-5ec4-4601-820d-3d2a8d210e76",
   "metadata": {},
   "outputs": [],
   "source": [
    "tz_mapping = pd.read_csv(\"D:/wangxiaoyang/Regular_Work/support_files/time_zone_population.csv\")\n",
    "comp_mapping = pd.read_excel(\"./ws_mapping.xlsx\")"
   ]
  },
  {
   "cell_type": "code",
   "execution_count": 386,
   "id": "e9756c5d-34d4-4a34-85db-8b24d4dd343c",
   "metadata": {},
   "outputs": [],
   "source": [
    "def get_sch_curling(comp):\n",
    "    global tz_org\n",
    "    url = f'https://livescores.worldcurling.org/{comp}/aspnet/summary?EventID=1'\n",
    "    response = requests.get(url)\n",
    "    soup = BeautifulSoup(response.content, 'html.parser')\n",
    "    \n",
    "    df = pd.DataFrame()\n",
    "    \n",
    "    temp = soup.find('span', id=\"LabelPlace\").get_text(strip=True).split(', ')\n",
    "    country = temp[len(temp)-1]\n",
    "    tz_org = tz_mapping.loc[tz_mapping['CSM.Territory'] == country, 'IANA.TZ.identifier'].iloc[0]\n",
    "    \n",
    "    rows = soup.find_all('tr', valign='top')\n",
    "    for row in rows:\n",
    "        cells = row.find_all('td')\n",
    "        stage = cells[0].get_text(strip=True).replace('\\xa0', '')\n",
    "        date_time = cells[1].get_text(strip=True)\n",
    "        nums = int((len(cells)-1) / 3)\n",
    "        data_tp_list = []\n",
    "        for i in range(1, nums+1):\n",
    "            # print(i)\n",
    "            teams = cells[i*3-1].get_text().replace('\\xa0', '').split(' ')\n",
    "            team_1, team_2 = teams[0], teams[1]\n",
    "            data_tp = {\n",
    "                'Competition': comp,\n",
    "                'Stage': stage,\n",
    "                'time_org': date_time,\n",
    "                'Team_1': team_1,\n",
    "                'Team_2': team_2\n",
    "            }\n",
    "            data_tp_list.append(data_tp)\n",
    "        df_tp = pd.DataFrame(data_tp_list)\n",
    "        df = pd.concat([df, df_tp])\n",
    "    return df"
   ]
  },
  {
   "cell_type": "code",
   "execution_count": 392,
   "id": "fc4a3368-ad5d-4ed5-9fda-a681685eeb6d",
   "metadata": {},
   "outputs": [],
   "source": [
    "def deal_sch_curling(df):\n",
    "    tz = pytz.timezone(tz_org)\n",
    "    df['Time'] = df['time_org'].apply(\n",
    "        lambda x: convert_tz(datetime.datetime.strptime(f\"2024 {x}\", \"%Y %a %d %b%H:%M\").strftime(\"%Y-%m-%d %H:%M:%S\"), tz_org = tz_org)\n",
    "    )\n",
    "    df1 = df[df['Team_1'] != ''].reset_index(drop=True)\n",
    "\n",
    "    df1['Date'] = df1['Time'].dt.strftime(\"%Y-%m-%d\")\n",
    "    \n",
    "    df1['Start'] = df1.apply(\n",
    "        lambda row: convert_to_excel_time(row['Time'].strftime(\"%H:%M:%S\")),\n",
    "        axis=1\n",
    "    )\n",
    "    \n",
    "    df2 = df1[['Competition', 'Stage', 'Team_1', 'Team_2', 'Date', 'Start']]\n",
    "    return df2"
   ]
  },
  {
   "cell_type": "code",
   "execution_count": null,
   "id": "9e4e1e0f-e3e4-4aae-97ed-02d67da9f8c5",
   "metadata": {},
   "outputs": [],
   "source": []
  },
  {
   "cell_type": "code",
   "execution_count": 394,
   "id": "affd85e3-af04-4d7f-8601-fb0ed0815625",
   "metadata": {},
   "outputs": [],
   "source": [
    "df_res = pd.DataFrame()\n",
    "for cc in ['wmxcc', 'pccc', 'ecc']:\n",
    "    df_tp = get_sch_curling(cc)\n",
    "    df_tp = deal_sch_curling(df_tp)\n",
    "    df_res = pd.concat([df_res, df_tp])"
   ]
  },
  {
   "cell_type": "code",
   "execution_count": 406,
   "id": "c2c568eb-e662-47c7-b858-ee15a1dfda23",
   "metadata": {},
   "outputs": [],
   "source": [
    "df_res = df_res.merge(comp_mapping, how='left', left_on='Competition', right_on='code')\n",
    "df_res['Competition'] = df_res['name']\n",
    "df_res = df_res.drop(columns=['name', 'code'])\n"
   ]
  },
  {
   "cell_type": "code",
   "execution_count": 410,
   "id": "952150a7-1fc5-4f1c-ab98-3cf4b30cc8c4",
   "metadata": {},
   "outputs": [],
   "source": [
    "df_res['Date'] = pd.to_datetime(df_res['Date'])"
   ]
  },
  {
   "cell_type": "code",
   "execution_count": 418,
   "id": "f19e9583-6760-468c-8063-d20071fedc24",
   "metadata": {},
   "outputs": [],
   "source": [
    "file_path = f\"./schedule-{season}.xlsx\"\n",
    "if not os.path.exists(file_path):\n",
    "    with pd.ExcelWriter(f\"./schedule-{season}.xlsx\", mode='w', engine='openpyxl') as writer:\n",
    "        df_res.to_excel(writer, sheet_name=\"Curling\", index=False)\n",
    "else:\n",
    "    with pd.ExcelWriter(f\"./schedule-{season}.xlsx\", mode='a', engine='openpyxl', if_sheet_exists='replace') as writer:\n",
    "        df_res.to_excel(writer, sheet_name=\"Curling\", index=False)"
   ]
  },
  {
   "cell_type": "code",
   "execution_count": 434,
   "id": "27d2b723-0111-4924-9f4d-75b82a820528",
   "metadata": {},
   "outputs": [],
   "source": [
    "\n",
    "\n",
    "# Now apply the date format to the 'Date' column (after writing)\n",
    "wb = load_workbook(file_path)\n",
    "ws = wb[\"Curling\"]  # Assuming you're working with the \"Curling\" sheet\n",
    "\n",
    "# Apply the date format to the 'Date' column (e.g., column B)\n",
    "for cell in ws['E']:  # Assuming 'Date' is in column B\n",
    "    cell.number_format=\"YYYY/MM/DD\"\n",
    "for cell in ws['F']:\n",
    "    cell.number_format=\"HH:MM:SS\"\n",
    "# Save the workbook with formatting changes\n",
    "wb.save(file_path)\n"
   ]
  }
 ],
 "metadata": {
  "kernelspec": {
   "display_name": "Python 3 (ipykernel)",
   "language": "python",
   "name": "python3"
  },
  "language_info": {
   "codemirror_mode": {
    "name": "ipython",
    "version": 3
   },
   "file_extension": ".py",
   "mimetype": "text/x-python",
   "name": "python",
   "nbconvert_exporter": "python",
   "pygments_lexer": "ipython3",
   "version": "3.12.3"
  }
 },
 "nbformat": 4,
 "nbformat_minor": 5
}
