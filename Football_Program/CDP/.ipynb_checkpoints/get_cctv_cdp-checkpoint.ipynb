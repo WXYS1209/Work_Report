{
 "cells": [
  {
   "cell_type": "code",
   "execution_count": 49,
   "id": "f36a98c3-07f0-4eab-9591-90e277bba490",
   "metadata": {},
   "outputs": [
    {
     "data": {
      "text/html": [
       "<div>\n",
       "<style scoped>\n",
       "    .dataframe tbody tr th:only-of-type {\n",
       "        vertical-align: middle;\n",
       "    }\n",
       "\n",
       "    .dataframe tbody tr th {\n",
       "        vertical-align: top;\n",
       "    }\n",
       "\n",
       "    .dataframe thead th {\n",
       "        text-align: right;\n",
       "    }\n",
       "</style>\n",
       "<table border=\"1\" class=\"dataframe\">\n",
       "  <thead>\n",
       "    <tr style=\"text-align: right;\">\n",
       "      <th></th>\n",
       "      <th>Date</th>\n",
       "      <th>start</th>\n",
       "      <th>name</th>\n",
       "    </tr>\n",
       "  </thead>\n",
       "  <tbody>\n",
       "  </tbody>\n",
       "</table>\n",
       "</div>"
      ],
      "text/plain": [
       "Empty DataFrame\n",
       "Columns: [Date, start, name]\n",
       "Index: []"
      ]
     },
     "execution_count": 49,
     "metadata": {},
     "output_type": "execute_result"
    }
   ],
   "source": [
    "import pandas as pd\n",
    "\n",
    "df1 = pd.DataFrame(columns=[\"Date\", \"Time\", \"Title\"])\n",
    "df1"
   ]
  },
  {
   "cell_type": "code",
   "execution_count": 51,
   "id": "47864be5-bd17-41a3-9425-96653685781b",
   "metadata": {},
   "outputs": [],
   "source": [
    "from selenium import webdriver\n",
    "from selenium.webdriver.chrome.service import Service\n",
    "from selenium.webdriver.common.by import By\n",
    "from selenium.webdriver.support.ui import WebDriverWait\n",
    "from selenium.webdriver.support import expected_conditions as EC\n",
    "import time\n",
    "from selenium.common.exceptions import StaleElementReferenceException\n",
    "import pandas as pd\n",
    "from datetime import datetime, timedelta\n",
    "\n",
    "def get_df(df_res, driver):\n",
    "    # 重新查找所有包含节目单的 <p> 元素\n",
    "    program_elements = driver.find_elements(By.CSS_SELECTOR, 'div#liveepg p.normal')\n",
    "    program_time = []\n",
    "    program_name = []\n",
    "    program_date = []\n",
    "    # 遍历并提取每个节目的日期、时间和名称\n",
    "    for program in program_elements:\n",
    "        # 尝试重新获取节目时间和名称\n",
    "        try:\n",
    "            # 获取节目时间\n",
    "            time_element = program.find_element(By.CSS_SELECTOR, 'span.epgtime')\n",
    "            program_time.append(time_element.text)\n",
    "            \n",
    "            # 获取节目名称\n",
    "            name_element = program.find_elements(By.TAG_NAME, 'span')[1]\n",
    "            program_name.append(name_element.text)\n",
    "    \n",
    "            # 获取节目日期 (从title属性中提取日期信息)\n",
    "            program_date.append(program.get_attribute('title').split(' ')[0])\n",
    "    \n",
    "            # 打印日期、时间和节目名称\n",
    "            # print(f\"日期: {program_date}, 时间: {program_time}, 节目: {program_name}\")\n",
    "        except StaleElementReferenceException:\n",
    "            print(\"元素已过期，需要重新加载页面元素\")\n",
    "            \n",
    "    data = {\n",
    "        'program_date': program_date,\n",
    "        'program_time': program_time,\n",
    "        'program_name': program_name\n",
    "    }\n",
    "    \n",
    "    # 创建 DataFrame\n",
    "    df = pd.DataFrame(data)\n",
    "\n",
    "    # 将 program_date 转换为 datetime 格式\n",
    "    df['program_date'] = pd.to_datetime(df['program_date'], format='%m月%d日')\n",
    "\n",
    "    # 创建新的 df_new DataFrame\n",
    "    df_new = pd.DataFrame()\n",
    "\n",
    "    # 填充 df_new\n",
    "    df_new['Date'] = df['program_date'].apply(lambda x: x.replace(year=2024))\n",
    "    df_new['start'] = pd.to_datetime(df_new['Date'].dt.strftime('%Y-%m-%d') + ' ' + df['program_time'])\n",
    "    # df_new['end'] = df_new['start'] + timedelta(minutes=80)\n",
    "    df_new['Date'] = df_new['Date'].dt.strftime('%Y-%m-%d')\n",
    "    df_new['start'] = df_new['start'].dt.strftime('%H:%M:%S')\n",
    "    # df_new['end'] = df_new['end'].dt.strftime('%H:%M:%S')\n",
    "    df_new['name'] = df['program_name']\n",
    "\n",
    "    return pd.concat([df_res, df_new])"
   ]
  },
  {
   "cell_type": "code",
   "execution_count": 53,
   "id": "d35fa084-0808-4217-bcee-4da1c2ab418b",
   "metadata": {},
   "outputs": [],
   "source": [
    "def get_data_for_week(driver, df):\n",
    "    for i in range(7):\n",
    "        next_week_button = WebDriverWait(driver, 10).until(\n",
    "            EC.element_to_be_clickable((By.ID, f\"weekday_{i}\"))\n",
    "        )\n",
    "        next_week_button.click()\n",
    "        time.sleep(1)\n",
    "        df = get_df(df, driver)\n",
    "    return df\n",
    "    \n",
    "# 设置ChromeDriver路径\n",
    "driver_path = r'C:\\Program Files (x86)\\Google\\Chrome\\Application\\chromedriver.exe'  # 替换为你下载的ChromeDriver路径\n",
    "service = Service(driver_path)\n",
    "\n",
    "# 启动Chrome浏览器\n",
    "driver = webdriver.Chrome(service=service)\n",
    "\n",
    "# 打开目标网址\n",
    "url = 'http://epg.tv.cn/soccer'  # 替换为实际节目单的URL\n",
    "driver.get(url)\n",
    "\n",
    "# 等待页面完全加载\n",
    "time.sleep(1)\n",
    "df2 = get_df(df1, driver)\n",
    "\n",
    "## Current week\n",
    "# next_week_button = WebDriverWait(driver, 10).until(\n",
    "#     EC.element_to_be_clickable((By.ID, \"weekday_0\"))\n",
    "# )\n",
    "# next_week_button.click()\n",
    "# time.sleep(1)\n",
    "df2 = get_data_for_week(driver, df2)\n",
    "# df2 = get_df(df2, driver)\n",
    "\n",
    "## Last week\n",
    "next_week_button = WebDriverWait(driver, 10).until(\n",
    "    EC.element_to_be_clickable((By.ID, \"upweek\"))\n",
    ")\n",
    "next_week_button.click()\n",
    "time.sleep(1)\n",
    "\n",
    "\n",
    "\n",
    "df2 = get_data_for_week(driver, df2)\n",
    "\n",
    "'''next_week_button = WebDriverWait(driver, 10).until(\n",
    "    EC.element_to_be_clickable((By.ID, \"upweek\"))\n",
    ")\n",
    "next_week_button.click()\n",
    "time.sleep(1)\n",
    "\n",
    "for i in range(7):\n",
    "    next_week_button = WebDriverWait(driver, 10).until(\n",
    "        EC.element_to_be_clickable((By.ID, f\"weekday_{i}\"))\n",
    "    )\n",
    "    next_week_button.click()\n",
    "    time.sleep(1)\n",
    "    df2 = get_df(df2, driver)'''\n",
    "    \n",
    "# 关闭浏览器\n",
    "driver.quit()\n"
   ]
  },
  {
   "cell_type": "code",
   "execution_count": 55,
   "id": "073b7223-2882-4f32-9f7c-f25c0a66369b",
   "metadata": {},
   "outputs": [],
   "source": [
    "df2.index = range(len(df2))"
   ]
  },
  {
   "cell_type": "code",
   "execution_count": 57,
   "id": "4d9b0e9c-1b6f-483d-85eb-31df0bda85a7",
   "metadata": {},
   "outputs": [],
   "source": [
    "df2['Date'] = pd.to_datetime(df2['Date'])"
   ]
  },
  {
   "cell_type": "code",
   "execution_count": 87,
   "id": "d2b3ffa5-cf5b-42c7-9109-0be8c24f3498",
   "metadata": {},
   "outputs": [],
   "source": [
    "df_final = df2[ (df2['Date'] <= pd.to_datetime('2024-10-22')) & (df2['Date'] >= pd.to_datetime('2024-10-15')) ].sort_values(by=['Date', 'start'])"
   ]
  },
  {
   "cell_type": "code",
   "execution_count": 89,
   "id": "f108fdc4-5961-4e45-829c-af4e79559dde",
   "metadata": {},
   "outputs": [],
   "source": [
    "df_final.to_excel(\"./tmp.xlsx\", index=False)"
   ]
  },
  {
   "cell_type": "code",
   "execution_count": 71,
   "id": "91cd25bd-dd9f-4686-84f7-f8fd105ae415",
   "metadata": {
    "scrolled": true
   },
   "outputs": [
    {
     "data": {
      "text/plain": [
       "array(['2024-10-21T00:00:00.000000000', '2024-10-22T00:00:00.000000000',\n",
       "       '2024-10-20T00:00:00.000000000', '2024-10-23T00:00:00.000000000',\n",
       "       '2024-10-24T00:00:00.000000000', '2024-10-25T00:00:00.000000000',\n",
       "       '2024-10-26T00:00:00.000000000', '2024-10-27T00:00:00.000000000',\n",
       "       '2024-10-13T00:00:00.000000000', '2024-10-14T00:00:00.000000000',\n",
       "       '2024-10-15T00:00:00.000000000', '2024-10-16T00:00:00.000000000',\n",
       "       '2024-10-17T00:00:00.000000000', '2024-10-18T00:00:00.000000000',\n",
       "       '2024-10-19T00:00:00.000000000'], dtype='datetime64[ns]')"
      ]
     },
     "execution_count": 71,
     "metadata": {},
     "output_type": "execute_result"
    }
   ],
   "source": []
  }
 ],
 "metadata": {
  "kernelspec": {
   "display_name": "Python 3 (ipykernel)",
   "language": "python",
   "name": "python3"
  },
  "language_info": {
   "codemirror_mode": {
    "name": "ipython",
    "version": 3
   },
   "file_extension": ".py",
   "mimetype": "text/x-python",
   "name": "python",
   "nbconvert_exporter": "python",
   "pygments_lexer": "ipython3",
   "version": "3.12.3"
  }
 },
 "nbformat": 4,
 "nbformat_minor": 5
}
