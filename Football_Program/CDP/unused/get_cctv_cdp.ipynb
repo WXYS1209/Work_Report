{
 "cells": [
  {
   "cell_type": "code",
   "execution_count": 2,
   "id": "f36a98c3-07f0-4eab-9591-90e277bba490",
   "metadata": {},
   "outputs": [
    {
     "data": {
      "text/html": [
       "<div>\n",
       "<style scoped>\n",
       "    .dataframe tbody tr th:only-of-type {\n",
       "        vertical-align: middle;\n",
       "    }\n",
       "\n",
       "    .dataframe tbody tr th {\n",
       "        vertical-align: top;\n",
       "    }\n",
       "\n",
       "    .dataframe thead th {\n",
       "        text-align: right;\n",
       "    }\n",
       "</style>\n",
       "<table border=\"1\" class=\"dataframe\">\n",
       "  <thead>\n",
       "    <tr style=\"text-align: right;\">\n",
       "      <th></th>\n",
       "      <th>Date</th>\n",
       "      <th>Time</th>\n",
       "      <th>Title</th>\n",
       "    </tr>\n",
       "  </thead>\n",
       "  <tbody>\n",
       "  </tbody>\n",
       "</table>\n",
       "</div>"
      ],
      "text/plain": [
       "Empty DataFrame\n",
       "Columns: [Date, Time, Title]\n",
       "Index: []"
      ]
     },
     "execution_count": 2,
     "metadata": {},
     "output_type": "execute_result"
    }
   ],
   "source": [
    "import pandas as pd\n",
    "\n",
    "df1 = pd.DataFrame(columns=[\"Date\", \"Time\", \"Title\"])\n",
    "df1"
   ]
  },
  {
   "cell_type": "code",
   "execution_count": 4,
   "id": "47864be5-bd17-41a3-9425-96653685781b",
   "metadata": {},
   "outputs": [],
   "source": [
    "from selenium import webdriver\n",
    "from selenium.webdriver.chrome.service import Service\n",
    "from selenium.webdriver.common.by import By\n",
    "from selenium.webdriver.support.ui import WebDriverWait\n",
    "from selenium.webdriver.support import expected_conditions as EC\n",
    "import time\n",
    "from selenium.common.exceptions import StaleElementReferenceException\n",
    "import pandas as pd\n",
    "from datetime import datetime, timedelta\n",
    "\n",
    "def get_df(df_res, driver):\n",
    "    # 重新查找所有包含节目单的 <p> 元素\n",
    "    program_elements = driver.find_elements(By.CSS_SELECTOR, 'div#liveepg p.normal')\n",
    "    program_time = []\n",
    "    program_name = []\n",
    "    program_date = []\n",
    "    # 遍历并提取每个节目的日期、时间和名称\n",
    "    for program in program_elements:\n",
    "        # 尝试重新获取节目时间和名称\n",
    "        try:\n",
    "            # 获取节目时间\n",
    "            time_element = program.find_element(By.CSS_SELECTOR, 'span.epgtime')\n",
    "            program_time.append(time_element.text)\n",
    "            \n",
    "            # 获取节目名称\n",
    "            name_element = program.find_elements(By.TAG_NAME, 'span')[1]\n",
    "            program_name.append(name_element.text)\n",
    "    \n",
    "            # 获取节目日期 (从title属性中提取日期信息)\n",
    "            program_date.append(program.get_attribute('title').split(' ')[0])\n",
    "    \n",
    "            # 打印日期、时间和节目名称\n",
    "            # print(f\"日期: {program_date}, 时间: {program_time}, 节目: {program_name}\")\n",
    "        except StaleElementReferenceException:\n",
    "            print(\"元素已过期，需要重新加载页面元素\")\n",
    "            \n",
    "    data = {\n",
    "        'program_date': program_date,\n",
    "        'program_time': program_time,\n",
    "        'program_name': program_name\n",
    "    }\n",
    "    \n",
    "    # 创建 DataFrame\n",
    "    df = pd.DataFrame(data)\n",
    "\n",
    "    # 将 program_date 转换为 datetime 格式\n",
    "    df['program_date'] = pd.to_datetime(df['program_date'], format='%m月%d日')\n",
    "\n",
    "    # 创建新的 df_new DataFrame\n",
    "    df_new = pd.DataFrame()\n",
    "\n",
    "    # 填充 df_new\n",
    "    df_new['Date'] = df['program_date'].apply(lambda x: x.replace(year=2024))\n",
    "    df_new['Time'] = pd.to_datetime(df_new['Date'].dt.strftime('%Y-%m-%d') + ' ' + df['program_time'])\n",
    "    # df_new['end'] = df_new['start'] + timedelta(minutes=80)\n",
    "    df_new['Date'] = df_new['Date'].dt.strftime('%Y-%m-%d')\n",
    "    df_new['Time'] = df_new['Time'].dt.strftime('%H:%M:%S')\n",
    "    # df_new['end'] = df_new['end'].dt.strftime('%H:%M:%S')\n",
    "    df_new['Title'] = df['program_name']\n",
    "\n",
    "    return pd.concat([df_res, df_new])"
   ]
  },
  {
   "cell_type": "code",
   "execution_count": 6,
   "id": "d35fa084-0808-4217-bcee-4da1c2ab418b",
   "metadata": {},
   "outputs": [
    {
     "ename": "SessionNotCreatedException",
     "evalue": "Message: session not created: This version of ChromeDriver only supports Chrome version 128\nCurrent browser version is 130.0.6723.69 with binary path C:\\Program Files (x86)\\Google\\Chrome\\Application\\chrome.exe\nStacktrace:\n\tGetHandleVerifier [0x00007FF7AFAFB5D2+29090]\n\t(No symbol) [0x00007FF7AFA6E689]\n\t(No symbol) [0x00007FF7AF92B1CA]\n\t(No symbol) [0x00007FF7AF96D6B2]\n\t(No symbol) [0x00007FF7AF96C751]\n\t(No symbol) [0x00007FF7AF96729C]\n\t(No symbol) [0x00007FF7AF961E0A]\n\t(No symbol) [0x00007FF7AF9B236D]\n\t(No symbol) [0x00007FF7AF9B1A20]\n\t(No symbol) [0x00007FF7AF9A6493]\n\t(No symbol) [0x00007FF7AF9709B1]\n\t(No symbol) [0x00007FF7AF971B11]\n\tGetHandleVerifier [0x00007FF7AFE18C5D+3295277]\n\tGetHandleVerifier [0x00007FF7AFE64843+3605523]\n\tGetHandleVerifier [0x00007FF7AFE5A707+3564247]\n\tGetHandleVerifier [0x00007FF7AFBB6EB6+797318]\n\t(No symbol) [0x00007FF7AFA7980F]\n\t(No symbol) [0x00007FF7AFA753F4]\n\t(No symbol) [0x00007FF7AFA75580]\n\t(No symbol) [0x00007FF7AFA64A1F]\n\tBaseThreadInitThunk [0x00007FFBC181257D+29]\n\tRtlUserThreadStart [0x00007FFBC25AAF08+40]\n",
     "output_type": "error",
     "traceback": [
      "\u001b[1;31m---------------------------------------------------------------------------\u001b[0m",
      "\u001b[1;31mSessionNotCreatedException\u001b[0m                Traceback (most recent call last)",
      "Cell \u001b[1;32mIn[6], line 16\u001b[0m\n\u001b[0;32m     13\u001b[0m service \u001b[38;5;241m=\u001b[39m Service(driver_path)\n\u001b[0;32m     15\u001b[0m \u001b[38;5;66;03m# 启动Chrome浏览器\u001b[39;00m\n\u001b[1;32m---> 16\u001b[0m driver \u001b[38;5;241m=\u001b[39m webdriver\u001b[38;5;241m.\u001b[39mChrome(service\u001b[38;5;241m=\u001b[39mservice)\n\u001b[0;32m     18\u001b[0m \u001b[38;5;66;03m# 打开目标网址\u001b[39;00m\n\u001b[0;32m     19\u001b[0m url \u001b[38;5;241m=\u001b[39m \u001b[38;5;124m'\u001b[39m\u001b[38;5;124mhttp://epg.tv.cn/soccer\u001b[39m\u001b[38;5;124m'\u001b[39m  \u001b[38;5;66;03m# 替换为实际节目单的URL\u001b[39;00m\n",
      "File \u001b[1;32mD:\\anaconda3\\Lib\\site-packages\\selenium\\webdriver\\chrome\\webdriver.py:45\u001b[0m, in \u001b[0;36mWebDriver.__init__\u001b[1;34m(self, options, service, keep_alive)\u001b[0m\n\u001b[0;32m     42\u001b[0m service \u001b[38;5;241m=\u001b[39m service \u001b[38;5;28;01mif\u001b[39;00m service \u001b[38;5;28;01melse\u001b[39;00m Service()\n\u001b[0;32m     43\u001b[0m options \u001b[38;5;241m=\u001b[39m options \u001b[38;5;28;01mif\u001b[39;00m options \u001b[38;5;28;01melse\u001b[39;00m Options()\n\u001b[1;32m---> 45\u001b[0m \u001b[38;5;28msuper\u001b[39m()\u001b[38;5;241m.\u001b[39m\u001b[38;5;21m__init__\u001b[39m(\n\u001b[0;32m     46\u001b[0m     browser_name\u001b[38;5;241m=\u001b[39mDesiredCapabilities\u001b[38;5;241m.\u001b[39mCHROME[\u001b[38;5;124m\"\u001b[39m\u001b[38;5;124mbrowserName\u001b[39m\u001b[38;5;124m\"\u001b[39m],\n\u001b[0;32m     47\u001b[0m     vendor_prefix\u001b[38;5;241m=\u001b[39m\u001b[38;5;124m\"\u001b[39m\u001b[38;5;124mgoog\u001b[39m\u001b[38;5;124m\"\u001b[39m,\n\u001b[0;32m     48\u001b[0m     options\u001b[38;5;241m=\u001b[39moptions,\n\u001b[0;32m     49\u001b[0m     service\u001b[38;5;241m=\u001b[39mservice,\n\u001b[0;32m     50\u001b[0m     keep_alive\u001b[38;5;241m=\u001b[39mkeep_alive,\n\u001b[0;32m     51\u001b[0m )\n",
      "File \u001b[1;32mD:\\anaconda3\\Lib\\site-packages\\selenium\\webdriver\\chromium\\webdriver.py:66\u001b[0m, in \u001b[0;36mChromiumDriver.__init__\u001b[1;34m(self, browser_name, vendor_prefix, options, service, keep_alive)\u001b[0m\n\u001b[0;32m     57\u001b[0m executor \u001b[38;5;241m=\u001b[39m ChromiumRemoteConnection(\n\u001b[0;32m     58\u001b[0m     remote_server_addr\u001b[38;5;241m=\u001b[39m\u001b[38;5;28mself\u001b[39m\u001b[38;5;241m.\u001b[39mservice\u001b[38;5;241m.\u001b[39mservice_url,\n\u001b[0;32m     59\u001b[0m     browser_name\u001b[38;5;241m=\u001b[39mbrowser_name,\n\u001b[1;32m   (...)\u001b[0m\n\u001b[0;32m     62\u001b[0m     ignore_proxy\u001b[38;5;241m=\u001b[39moptions\u001b[38;5;241m.\u001b[39m_ignore_local_proxy,\n\u001b[0;32m     63\u001b[0m )\n\u001b[0;32m     65\u001b[0m \u001b[38;5;28;01mtry\u001b[39;00m:\n\u001b[1;32m---> 66\u001b[0m     \u001b[38;5;28msuper\u001b[39m()\u001b[38;5;241m.\u001b[39m\u001b[38;5;21m__init__\u001b[39m(command_executor\u001b[38;5;241m=\u001b[39mexecutor, options\u001b[38;5;241m=\u001b[39moptions)\n\u001b[0;32m     67\u001b[0m \u001b[38;5;28;01mexcept\u001b[39;00m \u001b[38;5;167;01mException\u001b[39;00m:\n\u001b[0;32m     68\u001b[0m     \u001b[38;5;28mself\u001b[39m\u001b[38;5;241m.\u001b[39mquit()\n",
      "File \u001b[1;32mD:\\anaconda3\\Lib\\site-packages\\selenium\\webdriver\\remote\\webdriver.py:212\u001b[0m, in \u001b[0;36mWebDriver.__init__\u001b[1;34m(self, command_executor, keep_alive, file_detector, options)\u001b[0m\n\u001b[0;32m    210\u001b[0m \u001b[38;5;28mself\u001b[39m\u001b[38;5;241m.\u001b[39m_authenticator_id \u001b[38;5;241m=\u001b[39m \u001b[38;5;28;01mNone\u001b[39;00m\n\u001b[0;32m    211\u001b[0m \u001b[38;5;28mself\u001b[39m\u001b[38;5;241m.\u001b[39mstart_client()\n\u001b[1;32m--> 212\u001b[0m \u001b[38;5;28mself\u001b[39m\u001b[38;5;241m.\u001b[39mstart_session(capabilities)\n\u001b[0;32m    214\u001b[0m \u001b[38;5;28mself\u001b[39m\u001b[38;5;241m.\u001b[39m_websocket_connection \u001b[38;5;241m=\u001b[39m \u001b[38;5;28;01mNone\u001b[39;00m\n\u001b[0;32m    215\u001b[0m \u001b[38;5;28mself\u001b[39m\u001b[38;5;241m.\u001b[39m_script \u001b[38;5;241m=\u001b[39m \u001b[38;5;28;01mNone\u001b[39;00m\n",
      "File \u001b[1;32mD:\\anaconda3\\Lib\\site-packages\\selenium\\webdriver\\remote\\webdriver.py:299\u001b[0m, in \u001b[0;36mWebDriver.start_session\u001b[1;34m(self, capabilities)\u001b[0m\n\u001b[0;32m    292\u001b[0m \u001b[38;5;250m\u001b[39m\u001b[38;5;124;03m\"\"\"Creates a new session with the desired capabilities.\u001b[39;00m\n\u001b[0;32m    293\u001b[0m \n\u001b[0;32m    294\u001b[0m \u001b[38;5;124;03m:Args:\u001b[39;00m\n\u001b[0;32m    295\u001b[0m \u001b[38;5;124;03m - capabilities - a capabilities dict to start the session with.\u001b[39;00m\n\u001b[0;32m    296\u001b[0m \u001b[38;5;124;03m\"\"\"\u001b[39;00m\n\u001b[0;32m    298\u001b[0m caps \u001b[38;5;241m=\u001b[39m _create_caps(capabilities)\n\u001b[1;32m--> 299\u001b[0m response \u001b[38;5;241m=\u001b[39m \u001b[38;5;28mself\u001b[39m\u001b[38;5;241m.\u001b[39mexecute(Command\u001b[38;5;241m.\u001b[39mNEW_SESSION, caps)[\u001b[38;5;124m\"\u001b[39m\u001b[38;5;124mvalue\u001b[39m\u001b[38;5;124m\"\u001b[39m]\n\u001b[0;32m    300\u001b[0m \u001b[38;5;28mself\u001b[39m\u001b[38;5;241m.\u001b[39msession_id \u001b[38;5;241m=\u001b[39m response\u001b[38;5;241m.\u001b[39mget(\u001b[38;5;124m\"\u001b[39m\u001b[38;5;124msessionId\u001b[39m\u001b[38;5;124m\"\u001b[39m)\n\u001b[0;32m    301\u001b[0m \u001b[38;5;28mself\u001b[39m\u001b[38;5;241m.\u001b[39mcaps \u001b[38;5;241m=\u001b[39m response\u001b[38;5;241m.\u001b[39mget(\u001b[38;5;124m\"\u001b[39m\u001b[38;5;124mcapabilities\u001b[39m\u001b[38;5;124m\"\u001b[39m)\n",
      "File \u001b[1;32mD:\\anaconda3\\Lib\\site-packages\\selenium\\webdriver\\remote\\webdriver.py:354\u001b[0m, in \u001b[0;36mWebDriver.execute\u001b[1;34m(self, driver_command, params)\u001b[0m\n\u001b[0;32m    352\u001b[0m response \u001b[38;5;241m=\u001b[39m \u001b[38;5;28mself\u001b[39m\u001b[38;5;241m.\u001b[39mcommand_executor\u001b[38;5;241m.\u001b[39mexecute(driver_command, params)\n\u001b[0;32m    353\u001b[0m \u001b[38;5;28;01mif\u001b[39;00m response:\n\u001b[1;32m--> 354\u001b[0m     \u001b[38;5;28mself\u001b[39m\u001b[38;5;241m.\u001b[39merror_handler\u001b[38;5;241m.\u001b[39mcheck_response(response)\n\u001b[0;32m    355\u001b[0m     response[\u001b[38;5;124m\"\u001b[39m\u001b[38;5;124mvalue\u001b[39m\u001b[38;5;124m\"\u001b[39m] \u001b[38;5;241m=\u001b[39m \u001b[38;5;28mself\u001b[39m\u001b[38;5;241m.\u001b[39m_unwrap_value(response\u001b[38;5;241m.\u001b[39mget(\u001b[38;5;124m\"\u001b[39m\u001b[38;5;124mvalue\u001b[39m\u001b[38;5;124m\"\u001b[39m, \u001b[38;5;28;01mNone\u001b[39;00m))\n\u001b[0;32m    356\u001b[0m     \u001b[38;5;28;01mreturn\u001b[39;00m response\n",
      "File \u001b[1;32mD:\\anaconda3\\Lib\\site-packages\\selenium\\webdriver\\remote\\errorhandler.py:229\u001b[0m, in \u001b[0;36mErrorHandler.check_response\u001b[1;34m(self, response)\u001b[0m\n\u001b[0;32m    227\u001b[0m         alert_text \u001b[38;5;241m=\u001b[39m value[\u001b[38;5;124m\"\u001b[39m\u001b[38;5;124malert\u001b[39m\u001b[38;5;124m\"\u001b[39m]\u001b[38;5;241m.\u001b[39mget(\u001b[38;5;124m\"\u001b[39m\u001b[38;5;124mtext\u001b[39m\u001b[38;5;124m\"\u001b[39m)\n\u001b[0;32m    228\u001b[0m     \u001b[38;5;28;01mraise\u001b[39;00m exception_class(message, screen, stacktrace, alert_text)  \u001b[38;5;66;03m# type: ignore[call-arg]  # mypy is not smart enough here\u001b[39;00m\n\u001b[1;32m--> 229\u001b[0m \u001b[38;5;28;01mraise\u001b[39;00m exception_class(message, screen, stacktrace)\n",
      "\u001b[1;31mSessionNotCreatedException\u001b[0m: Message: session not created: This version of ChromeDriver only supports Chrome version 128\nCurrent browser version is 130.0.6723.69 with binary path C:\\Program Files (x86)\\Google\\Chrome\\Application\\chrome.exe\nStacktrace:\n\tGetHandleVerifier [0x00007FF7AFAFB5D2+29090]\n\t(No symbol) [0x00007FF7AFA6E689]\n\t(No symbol) [0x00007FF7AF92B1CA]\n\t(No symbol) [0x00007FF7AF96D6B2]\n\t(No symbol) [0x00007FF7AF96C751]\n\t(No symbol) [0x00007FF7AF96729C]\n\t(No symbol) [0x00007FF7AF961E0A]\n\t(No symbol) [0x00007FF7AF9B236D]\n\t(No symbol) [0x00007FF7AF9B1A20]\n\t(No symbol) [0x00007FF7AF9A6493]\n\t(No symbol) [0x00007FF7AF9709B1]\n\t(No symbol) [0x00007FF7AF971B11]\n\tGetHandleVerifier [0x00007FF7AFE18C5D+3295277]\n\tGetHandleVerifier [0x00007FF7AFE64843+3605523]\n\tGetHandleVerifier [0x00007FF7AFE5A707+3564247]\n\tGetHandleVerifier [0x00007FF7AFBB6EB6+797318]\n\t(No symbol) [0x00007FF7AFA7980F]\n\t(No symbol) [0x00007FF7AFA753F4]\n\t(No symbol) [0x00007FF7AFA75580]\n\t(No symbol) [0x00007FF7AFA64A1F]\n\tBaseThreadInitThunk [0x00007FFBC181257D+29]\n\tRtlUserThreadStart [0x00007FFBC25AAF08+40]\n"
     ]
    }
   ],
   "source": [
    "def get_data_for_week(driver, df):\n",
    "    for i in range(7):\n",
    "        next_week_button = WebDriverWait(driver, 10).until(\n",
    "            EC.element_to_be_clickable((By.ID, f\"weekday_{i}\"))\n",
    "        )\n",
    "        next_week_button.click()\n",
    "        time.sleep(1)\n",
    "        df = get_df(df, driver)\n",
    "    return df\n",
    "    \n",
    "# 设置ChromeDriver路径\n",
    "driver_path = r'C:\\Program Files (x86)\\Google\\Chrome\\Application\\chromedriver.exe'  # 替换为你下载的ChromeDriver路径\n",
    "service = Service(driver_path)\n",
    "\n",
    "# 启动Chrome浏览器\n",
    "driver = webdriver.Chrome(service=service)\n",
    "\n",
    "# 打开目标网址\n",
    "url = 'http://epg.tv.cn/soccer'  # 替换为实际节目单的URL\n",
    "driver.get(url)\n",
    "\n",
    "# 等待页面完全加载\n",
    "time.sleep(1)\n",
    "df2 = get_df(df1, driver)\n",
    "\n",
    "## Current week\n",
    "# next_week_button = WebDriverWait(driver, 10).until(\n",
    "#     EC.element_to_be_clickable((By.ID, \"weekday_0\"))\n",
    "# )\n",
    "# next_week_button.click()\n",
    "# time.sleep(1)\n",
    "df2 = get_data_for_week(driver, df2)\n",
    "# df2 = get_df(df2, driver)\n",
    "\n",
    "## Last week\n",
    "next_week_button = WebDriverWait(driver, 10).until(\n",
    "    EC.element_to_be_clickable((By.ID, \"upweek\"))\n",
    ")\n",
    "next_week_button.click()\n",
    "time.sleep(1)\n",
    "\n",
    "\n",
    "\n",
    "df2 = get_data_for_week(driver, df2)\n",
    "\n",
    "'''next_week_button = WebDriverWait(driver, 10).until(\n",
    "    EC.element_to_be_clickable((By.ID, \"upweek\"))\n",
    ")\n",
    "next_week_button.click()\n",
    "time.sleep(1)\n",
    "\n",
    "for i in range(7):\n",
    "    next_week_button = WebDriverWait(driver, 10).until(\n",
    "        EC.element_to_be_clickable((By.ID, f\"weekday_{i}\"))\n",
    "    )\n",
    "    next_week_button.click()\n",
    "    time.sleep(1)\n",
    "    df2 = get_df(df2, driver)'''\n",
    "    \n",
    "# 关闭浏览器\n",
    "driver.quit()\n"
   ]
  },
  {
   "cell_type": "code",
   "execution_count": 111,
   "id": "073b7223-2882-4f32-9f7c-f25c0a66369b",
   "metadata": {},
   "outputs": [],
   "source": [
    "df2.index = range(len(df2))"
   ]
  },
  {
   "cell_type": "code",
   "execution_count": 113,
   "id": "4d9b0e9c-1b6f-483d-85eb-31df0bda85a7",
   "metadata": {},
   "outputs": [],
   "source": [
    "df2['Date'] = pd.to_datetime(df2['Date'])"
   ]
  },
  {
   "cell_type": "code",
   "execution_count": 120,
   "id": "d2b3ffa5-cf5b-42c7-9109-0be8c24f3498",
   "metadata": {},
   "outputs": [],
   "source": [
    "df_final = df2[ (df2['Date'] <= pd.to_datetime('2024-10-22')) & (df2['Date'] >= pd.to_datetime('2024-10-15')) ].sort_values(by=['Date', 'Time'])"
   ]
  },
  {
   "cell_type": "code",
   "execution_count": 122,
   "id": "f108fdc4-5961-4e45-829c-af4e79559dde",
   "metadata": {},
   "outputs": [],
   "source": [
    "df_final.to_excel(\"./tmp.xlsx\", index=False)"
   ]
  },
  {
   "cell_type": "code",
   "execution_count": null,
   "id": "f36e1bb7-3590-4671-8859-b945495e952c",
   "metadata": {},
   "outputs": [],
   "source": []
  }
 ],
 "metadata": {
  "kernelspec": {
   "display_name": "Python 3 (ipykernel)",
   "language": "python",
   "name": "python3"
  },
  "language_info": {
   "codemirror_mode": {
    "name": "ipython",
    "version": 3
   },
   "file_extension": ".py",
   "mimetype": "text/x-python",
   "name": "python",
   "nbconvert_exporter": "python",
   "pygments_lexer": "ipython3",
   "version": "3.12.3"
  }
 },
 "nbformat": 4,
 "nbformat_minor": 5
}
